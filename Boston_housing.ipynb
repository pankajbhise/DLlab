{
 "cells": [
  {
   "cell_type": "code",
   "execution_count": 1,
   "metadata": {
    "id": "wka5k6c5uTz9"
   },
   "outputs": [],
   "source": [
    "import numpy as np\n",
    "from tensorflow.keras.datasets import boston_housing\n",
    "from tensorflow.keras.models import Sequential\n",
    "from tensorflow.keras.layers import Dense, Dropout\n",
    "from tensorflow.keras.layers import BatchNormalization\n",
    "from tensorflow.keras.callbacks import ModelCheckpoint\n",
    "from tensorflow.keras.callbacks import TensorBoard\n",
    "import os"
   ]
  },
  {
   "cell_type": "code",
   "execution_count": 2,
   "metadata": {
    "colab": {
     "base_uri": "https://localhost:8080/",
     "height": 0
    },
    "id": "UFKE7DF-uitN",
    "outputId": "a6e0bb0d-dc31-4130-dd88-8b9c3f23ddfc"
   },
   "outputs": [
    {
     "name": "stdout",
     "output_type": "stream",
     "text": [
      "Downloading data from https://storage.googleapis.com/tensorflow/tf-keras-datasets/boston_housing.npz\n",
      "57026/57026 [==============================] - 0s 0us/step\n"
     ]
    }
   ],
   "source": [
    "(X_train, y_train), (X_valid, y_valid) = boston_housing.load_data()"
   ]
  },
  {
   "cell_type": "code",
   "execution_count": 4,
   "metadata": {
    "colab": {
     "base_uri": "https://localhost:8080/",
     "height": 0
    },
    "id": "jJ4_z9RjuqXV",
    "outputId": "c936e614-d770-4ebb-d0f4-b6195564153d"
   },
   "outputs": [
    {
     "data": {
      "text/plain": [
       "(404, 13)"
      ]
     },
     "execution_count": 4,
     "metadata": {},
     "output_type": "execute_result"
    }
   ],
   "source": [
    "X_train.shape"
   ]
  },
  {
   "cell_type": "code",
   "execution_count": 5,
   "metadata": {
    "colab": {
     "base_uri": "https://localhost:8080/",
     "height": 0
    },
    "id": "NLKb_wXCuuHE",
    "outputId": "c650d8da-0674-49e7-ba80-18caf17cfc71"
   },
   "outputs": [
    {
     "data": {
      "text/plain": [
       "(102, 13)"
      ]
     },
     "execution_count": 5,
     "metadata": {},
     "output_type": "execute_result"
    }
   ],
   "source": [
    "X_valid.shape"
   ]
  },
  {
   "cell_type": "code",
   "execution_count": 6,
   "metadata": {
    "colab": {
     "base_uri": "https://localhost:8080/",
     "height": 0
    },
    "id": "dZkyBsAouy7u",
    "outputId": "27da445b-2198-4480-ce52-460578e8d1fa"
   },
   "outputs": [
    {
     "data": {
      "text/plain": [
       "array([  1.23247,   0.     ,   8.14   ,   0.     ,   0.538  ,   6.142  ,\n",
       "        91.7    ,   3.9769 ,   4.     , 307.     ,  21.     , 396.9    ,\n",
       "        18.72   ])"
      ]
     },
     "execution_count": 6,
     "metadata": {},
     "output_type": "execute_result"
    }
   ],
   "source": [
    "X_train[0]"
   ]
  },
  {
   "cell_type": "code",
   "execution_count": 7,
   "metadata": {
    "colab": {
     "base_uri": "https://localhost:8080/",
     "height": 0
    },
    "id": "T9_z4c_Vu2uQ",
    "outputId": "f513b23c-630b-4a50-9518-873facd3f462"
   },
   "outputs": [
    {
     "data": {
      "text/plain": [
       "15.2"
      ]
     },
     "execution_count": 7,
     "metadata": {},
     "output_type": "execute_result"
    }
   ],
   "source": [
    "y_train[0]"
   ]
  },
  {
   "cell_type": "code",
   "execution_count": 8,
   "metadata": {
    "id": "rUdqviVqu4Fm"
   },
   "outputs": [],
   "source": [
    "model = Sequential()\n",
    "model.add(Dense(32, input_dim=13, activation='relu'))\n",
    "model.add(BatchNormalization())\n",
    "model.add(Dense(16, activation='relu'))\n",
    "model.add(BatchNormalization())\n",
    "model.add(Dropout(0.2))\n",
    "model.add(Dense(1, activation='linear'))"
   ]
  },
  {
   "cell_type": "code",
   "execution_count": 9,
   "metadata": {
    "colab": {
     "base_uri": "https://localhost:8080/",
     "height": 0
    },
    "id": "urKzZSctu-Bg",
    "outputId": "dea55c21-e342-4900-e0e9-47c407f4f220"
   },
   "outputs": [
    {
     "name": "stdout",
     "output_type": "stream",
     "text": [
      "Model: \"sequential\"\n",
      "_________________________________________________________________\n",
      " Layer (type)                Output Shape              Param #   \n",
      "=================================================================\n",
      " dense (Dense)               (None, 32)                448       \n",
      "                                                                 \n",
      " batch_normalization (BatchN  (None, 32)               128       \n",
      " ormalization)                                                   \n",
      "                                                                 \n",
      " dense_1 (Dense)             (None, 16)                528       \n",
      "                                                                 \n",
      " batch_normalization_1 (Batc  (None, 16)               64        \n",
      " hNormalization)                                                 \n",
      "                                                                 \n",
      " dropout (Dropout)           (None, 16)                0         \n",
      "                                                                 \n",
      " dense_2 (Dense)             (None, 1)                 17        \n",
      "                                                                 \n",
      "=================================================================\n",
      "Total params: 1,185\n",
      "Trainable params: 1,089\n",
      "Non-trainable params: 96\n",
      "_________________________________________________________________\n"
     ]
    }
   ],
   "source": [
    "model.summary()"
   ]
  },
  {
   "cell_type": "code",
   "execution_count": 10,
   "metadata": {
    "id": "T78VuWTrvEvP"
   },
   "outputs": [],
   "source": [
    "model.compile(loss='mean_squared_error', optimizer='adam', )"
   ]
  },
  {
   "cell_type": "code",
   "execution_count": 11,
   "metadata": {
    "id": "YXDRWhijvHRG"
   },
   "outputs": [],
   "source": [
    "output_dir = 'model_output/'"
   ]
  },
  {
   "cell_type": "code",
   "execution_count": 12,
   "metadata": {
    "id": "Fl0iN0dDvLDT"
   },
   "outputs": [],
   "source": [
    "run_name = 'regression_baseline'\n",
    "output_path = output_dir + run_name"
   ]
  },
  {
   "cell_type": "code",
   "execution_count": 18,
   "metadata": {
    "id": "xUg2KJ3IvQfI"
   },
   "outputs": [
    {
     "name": "stdout",
     "output_type": "stream",
     "text": [
      "Epoch 1/32\n",
      "51/51 [==============================] - 0s 5ms/step - loss: 41.1755 - val_loss: 44.1216\n",
      "Epoch 2/32\n",
      "51/51 [==============================] - 0s 5ms/step - loss: 36.8589 - val_loss: 95.3406\n",
      "Epoch 3/32\n",
      "51/51 [==============================] - 0s 5ms/step - loss: 38.9207 - val_loss: 42.1243\n",
      "Epoch 4/32\n",
      "51/51 [==============================] - 0s 4ms/step - loss: 44.2532 - val_loss: 780.5920\n",
      "Epoch 5/32\n",
      "51/51 [==============================] - 0s 5ms/step - loss: 41.1665 - val_loss: 39.2050\n",
      "Epoch 6/32\n",
      "51/51 [==============================] - 0s 4ms/step - loss: 41.5693 - val_loss: 36.5401\n",
      "Epoch 7/32\n",
      "51/51 [==============================] - 0s 4ms/step - loss: 50.2340 - val_loss: 43.8381\n",
      "Epoch 8/32\n",
      "51/51 [==============================] - 0s 4ms/step - loss: 42.0375 - val_loss: 39.3575\n",
      "Epoch 9/32\n",
      "51/51 [==============================] - 0s 4ms/step - loss: 42.3159 - val_loss: 109.2259\n",
      "Epoch 10/32\n",
      "51/51 [==============================] - 0s 3ms/step - loss: 38.1122 - val_loss: 57.8192\n",
      "Epoch 11/32\n",
      "51/51 [==============================] - 0s 3ms/step - loss: 44.5331 - val_loss: 120.3058\n",
      "Epoch 12/32\n",
      "51/51 [==============================] - 0s 3ms/step - loss: 38.4810 - val_loss: 39.3964\n",
      "Epoch 13/32\n",
      "51/51 [==============================] - 0s 3ms/step - loss: 39.5786 - val_loss: 50.3516\n",
      "Epoch 14/32\n",
      "51/51 [==============================] - 0s 3ms/step - loss: 39.2003 - val_loss: 41.2547\n",
      "Epoch 15/32\n",
      "51/51 [==============================] - 0s 3ms/step - loss: 37.8480 - val_loss: 32.1147\n",
      "Epoch 16/32\n",
      "51/51 [==============================] - 0s 3ms/step - loss: 42.0198 - val_loss: 36.8257\n",
      "Epoch 17/32\n",
      "51/51 [==============================] - 0s 3ms/step - loss: 36.1683 - val_loss: 38.9025\n",
      "Epoch 18/32\n",
      "51/51 [==============================] - 0s 3ms/step - loss: 40.1403 - val_loss: 36.0390\n",
      "Epoch 19/32\n",
      "51/51 [==============================] - 0s 3ms/step - loss: 48.3356 - val_loss: 31.6932\n",
      "Epoch 20/32\n",
      "51/51 [==============================] - 0s 3ms/step - loss: 43.1907 - val_loss: 51.2037\n",
      "Epoch 21/32\n",
      "51/51 [==============================] - 0s 3ms/step - loss: 46.3932 - val_loss: 49.4484\n",
      "Epoch 22/32\n",
      "51/51 [==============================] - 0s 3ms/step - loss: 34.8532 - val_loss: 28.2840\n",
      "Epoch 23/32\n",
      "51/51 [==============================] - 0s 3ms/step - loss: 43.9875 - val_loss: 37.4589\n",
      "Epoch 24/32\n",
      "51/51 [==============================] - 0s 3ms/step - loss: 46.9851 - val_loss: 36.1306\n",
      "Epoch 25/32\n",
      "51/51 [==============================] - 0s 3ms/step - loss: 40.7301 - val_loss: 30.4261\n",
      "Epoch 26/32\n",
      "51/51 [==============================] - 0s 3ms/step - loss: 32.2900 - val_loss: 47.5163\n",
      "Epoch 27/32\n",
      "51/51 [==============================] - 0s 3ms/step - loss: 36.6152 - val_loss: 59.0900\n",
      "Epoch 28/32\n",
      "51/51 [==============================] - 0s 3ms/step - loss: 41.0111 - val_loss: 47.9873\n",
      "Epoch 29/32\n",
      "51/51 [==============================] - 0s 3ms/step - loss: 37.9273 - val_loss: 71.7570\n",
      "Epoch 30/32\n",
      "51/51 [==============================] - 0s 3ms/step - loss: 33.6468 - val_loss: 45.3816\n",
      "Epoch 31/32\n",
      "51/51 [==============================] - 0s 3ms/step - loss: 35.0700 - val_loss: 155.8784\n",
      "Epoch 32/32\n",
      "51/51 [==============================] - 0s 3ms/step - loss: 39.7227 - val_loss: 46.3471\n"
     ]
    },
    {
     "data": {
      "text/plain": [
       "<keras.callbacks.History at 0x25cdc7db5b0>"
      ]
     },
     "execution_count": 18,
     "metadata": {},
     "output_type": "execute_result"
    }
   ],
   "source": [
    "if not os.path.exists(output_path):\n",
    "  os.makedirs(output_path)\n",
    "modelcheckpoint = ModelCheckpoint(output_path + '/weights.{epoch:02d}.hdf5', # decimal integers\n",
    "save_weights_only=True) # otherwise full model is saved\n",
    "tensorboard = TensorBoard(log_dir='logs/' + run_name)\n",
    "model.fit(X_train, y_train,\n",
    "batch_size=8, epochs=32, verbose=1,\n",
    "validation_data=(X_valid, y_valid),\n",
    "callbacks=[modelcheckpoint, tensorboard])"
   ]
  },
  {
   "cell_type": "code",
   "execution_count": 15,
   "metadata": {
    "colab": {
     "base_uri": "https://localhost:8080/",
     "height": 0
    },
    "id": "vHAIpu_4vsiX",
    "outputId": "aa299911-f1cb-4e28-8a5c-ee91e635e146"
   },
   "outputs": [
    {
     "data": {
      "text/plain": [
       "array([  9.32909,   0.     ,  18.1    ,   0.     ,   0.713  ,   6.185  ,\n",
       "        98.7    ,   2.2616 ,  24.     , 666.     ,  20.2    , 396.9    ,\n",
       "        18.13   ])"
      ]
     },
     "execution_count": 15,
     "metadata": {},
     "output_type": "execute_result"
    }
   ],
   "source": [
    "X_valid[42]"
   ]
  },
  {
   "cell_type": "code",
   "execution_count": 16,
   "metadata": {
    "colab": {
     "base_uri": "https://localhost:8080/",
     "height": 0
    },
    "id": "cO7M85eRvykG",
    "outputId": "d8c07abf-0bd9-4bdf-e447-d0f8e4a16b17"
   },
   "outputs": [
    {
     "data": {
      "text/plain": [
       "14.1"
      ]
     },
     "execution_count": 16,
     "metadata": {},
     "output_type": "execute_result"
    }
   ],
   "source": [
    "y_valid[42]"
   ]
  },
  {
   "cell_type": "code",
   "execution_count": 17,
   "metadata": {
    "colab": {
     "base_uri": "https://localhost:8080/",
     "height": 0
    },
    "id": "yBPCNy0Mv1gf",
    "outputId": "aac2790c-927b-409d-8e7e-418ef434a694"
   },
   "outputs": [
    {
     "name": "stdout",
     "output_type": "stream",
     "text": [
      "1/1 [==============================] - 0s 110ms/step\n"
     ]
    },
    {
     "data": {
      "text/plain": [
       "array([[18.509872]], dtype=float32)"
      ]
     },
     "execution_count": 17,
     "metadata": {},
     "output_type": "execute_result"
    }
   ],
   "source": [
    "model.predict(np.reshape(X_valid[42], [1, 13]))"
   ]
  }
 ],
 "metadata": {
  "colab": {
   "provenance": []
  },
  "kernelspec": {
   "display_name": "Python 3 (ipykernel)",
   "language": "python",
   "name": "python3"
  },
  "language_info": {
   "codemirror_mode": {
    "name": "ipython",
    "version": 3
   },
   "file_extension": ".py",
   "mimetype": "text/x-python",
   "name": "python",
   "nbconvert_exporter": "python",
   "pygments_lexer": "ipython3",
   "version": "3.9.13"
  }
 },
 "nbformat": 4,
 "nbformat_minor": 1
}
